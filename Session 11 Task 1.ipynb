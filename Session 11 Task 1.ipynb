{
 "cells": [
  {
   "cell_type": "code",
   "execution_count": 1,
   "metadata": {},
   "outputs": [
    {
     "ename": "SyntaxError",
     "evalue": "invalid syntax (3494215513.py, line 14)",
     "output_type": "error",
     "traceback": [
      "\u001b[1;36m  Cell \u001b[1;32mIn [1], line 14\u001b[1;36m\u001b[0m\n\u001b[1;33m    echo \"# Python_Session_11\" >> README.md\u001b[0m\n\u001b[1;37m         ^\u001b[0m\n\u001b[1;31mSyntaxError\u001b[0m\u001b[1;31m:\u001b[0m invalid syntax\n"
     ]
    }
   ],
   "source": [
    "#Write a function that takes a list of strings and a name as an input and returns a boolean value that indicates \n",
    "# if the name is present in the list. Do this by using a for-loop.\n",
    "fruits = [\"peter\", \"w3school\", \"apple\"]\n",
    "def check (fruits):\n",
    "    \n",
    "    \n",
    "    if x == \"apple\":\n",
    "        return False\n",
    "\n",
    "fruits = [\"apple\", \"banana\", \"cherry\"]\n",
    "for x in fruits:\n",
    "    if x == \"apple\":\n",
    "        print(\"false\")\n",
    "echo \"# Python_Session_11\" >> README.md\n",
    "git init\n",
    "git add README.md\n",
    "git commit -m \"first commit\"\n",
    "git branch -M main\n",
    "git remote add origin https://github.com/LudwigNils/Python_Session_11.git\n",
    "git push -u origin main"
   ]
  }
 ],
 "metadata": {
  "kernelspec": {
   "display_name": "Python 3.10.8 64-bit",
   "language": "python",
   "name": "python3"
  },
  "language_info": {
   "codemirror_mode": {
    "name": "ipython",
    "version": 3
   },
   "file_extension": ".py",
   "mimetype": "text/x-python",
   "name": "python",
   "nbconvert_exporter": "python",
   "pygments_lexer": "ipython3",
   "version": "3.10.8"
  },
  "orig_nbformat": 4,
  "vscode": {
   "interpreter": {
    "hash": "68d9f5f5f7a01b3a453e83fbc33a57e13439b74b51434a981b687ed9601ded71"
   }
  }
 },
 "nbformat": 4,
 "nbformat_minor": 2
}
